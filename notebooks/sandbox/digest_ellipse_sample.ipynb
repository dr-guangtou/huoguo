{
 "cells": [
  {
   "cell_type": "code",
   "execution_count": 1,
   "metadata": {},
   "outputs": [
    {
     "name": "stdout",
     "output_type": "stream",
     "text": [
      "1.19.5\n"
     ]
    }
   ],
   "source": [
    "%matplotlib inline\n",
    "%load_ext autoreload\n",
    "%autoreload 2\n",
    "\n",
    "import os\n",
    "import sys\n",
    "\n",
    "import numpy as np\n",
    "from numba import jit\n",
    "\n",
    "import astropy.units as u\n",
    "from astropy import wcs\n",
    "from astropy.io import fits\n",
    "from astropy.coordinates import SkyCoord\n",
    "from astropy.visualization import make_lupton_rgb\n",
    "from astropy.utils.data import download_file, clear_download_cache\n",
    "\n",
    "import matplotlib.pyplot as plt\n",
    "from matplotlib import rcParams\n",
    "\n",
    "print(np.__version__)"
   ]
  },
  {
   "cell_type": "code",
   "execution_count": 2,
   "metadata": {},
   "outputs": [],
   "source": [
    "@jit(nopython=True, nogil=True)\n",
    "def cart2polar(x, y):\n",
    "    \"\"\"\n",
    "    Transform Cartesian coordinates to polar\n",
    "    \n",
    "    Parameters\n",
    "    ----------\n",
    "    x, y : floats or arrays\n",
    "        Cartesian coordinates\n",
    "    \n",
    "    Returns\n",
    "    -------\n",
    "    r, theta : floats or arrays\n",
    "        Polar coordinates\n",
    "        \n",
    "    \"\"\"\n",
    "    r = np.hypot(x, y)\n",
    "    theta = np.arctan2(y, x)  # θ referenced to vertical\n",
    "    return r, theta\n",
    "\n",
    "@jit(nopython=True, nogil=True)\n",
    "def polar2cart(r, theta):\n",
    "    \"\"\"\n",
    "    Transform polar coordinates to Cartesian\n",
    "    \n",
    "    Parameters\n",
    "    -------\n",
    "    r, theta : floats or arrays\n",
    "        Polar coordinates\n",
    "        \n",
    "    Returns\n",
    "    ----------\n",
    "    x, y : floats or arrays\n",
    "        Cartesian coordinates\n",
    "    \"\"\"\n",
    "    y = r * np.cos(theta)   # θ referenced to vertical\n",
    "    x = r * np.sin(theta)\n",
    "    return x, y\n",
    "\n",
    "def index_coords(data):\n",
    "    \"\"\"\n",
    "    Creates x & y coords for the indicies in a numpy array\n",
    "    \n",
    "    Parameters\n",
    "    ----------\n",
    "    data : numpy array\n",
    "        2D data\n",
    "    origin : (x,y) tuple\n",
    "        defaults to the center of the image. Specify origin=(0,0)\n",
    "        to set the origin to the *bottom-left* corner of the image.\n",
    "    \n",
    "    Returns\n",
    "    -------\n",
    "        x, y : arrays\n",
    "    \"\"\"\n",
    "    ny, nx = data.shape[:2]\n",
    "    \n",
    "    x, y = np.meshgrid(\n",
    "        np.arange(float(nx)), np.arange(float(ny)))\n",
    "\n",
    "    return x, y\n",
    "\n",
    "@jit(nopython=True, nogil=True)\n",
    "def index_to_galcen(x_idx, y_idx, x_cen, y_cen):\n",
    "    return x_idx - x_cen, y_idx - y_cen"
   ]
  },
  {
   "cell_type": "code",
   "execution_count": 3,
   "metadata": {},
   "outputs": [],
   "source": [
    "x, y = np.arange(100) * 1.0, np.arange(100) * 1.0\n",
    "\n",
    "data = np.zeros([1000, 1000])\n",
    "\n",
    "r, theta = cart2polar(x, y)\n",
    "xx, yy = polar2cart(r, theta)\n",
    "\n",
    "xid, yid = index_coords(data)"
   ]
  },
  {
   "cell_type": "code",
   "execution_count": 4,
   "metadata": {},
   "outputs": [
    {
     "name": "stdout",
     "output_type": "stream",
     "text": [
      "2.17 µs ± 22.1 ns per loop (mean ± std. dev. of 7 runs, 100000 loops each)\n"
     ]
    }
   ],
   "source": [
    "%timeit r, thetha = cart2polar(x, y)"
   ]
  },
  {
   "cell_type": "code",
   "execution_count": 18,
   "metadata": {},
   "outputs": [
    {
     "name": "stdout",
     "output_type": "stream",
     "text": [
      "3.89 µs ± 17.5 ns per loop (mean ± std. dev. of 7 runs, 100000 loops each)\n"
     ]
    }
   ],
   "source": [
    "%timeit xx, yy = polar2cart(r, theta)"
   ]
  },
  {
   "cell_type": "code",
   "execution_count": 55,
   "metadata": {},
   "outputs": [
    {
     "name": "stdout",
     "output_type": "stream",
     "text": [
      "1.6 ms ± 38.8 µs per loop (mean ± std. dev. of 7 runs, 1000 loops each)\n"
     ]
    }
   ],
   "source": [
    "%timeit xid, yid = index_coords(data)"
   ]
  },
  {
   "cell_type": "code",
   "execution_count": 69,
   "metadata": {},
   "outputs": [
    {
     "name": "stdout",
     "output_type": "stream",
     "text": [
      "2.21 ms ± 26.3 µs per loop (mean ± std. dev. of 7 runs, 100 loops each)\n"
     ]
    }
   ],
   "source": [
    "%timeit x0, y0 = index_to_galcen(xid, yid, 500.0, 500.0)"
   ]
  },
  {
   "cell_type": "code",
   "execution_count": 24,
   "metadata": {},
   "outputs": [],
   "source": [
    "#@jit(nopython=True, nogil=True)\n",
    "def cart2polar(x, y):\n",
    "    \"\"\"\n",
    "    Transform Cartesian coordinates to polar\n",
    "    \n",
    "    Parameters\n",
    "    ----------\n",
    "    x, y : floats or arrays\n",
    "        Cartesian coordinates\n",
    "    \n",
    "    Returns\n",
    "    -------\n",
    "    r, theta : floats or arrays\n",
    "        Polar coordinates\n",
    "        \n",
    "    \"\"\"\n",
    "    return np.hypot(x, y), np.arctan2(y, x)"
   ]
  },
  {
   "cell_type": "code",
   "execution_count": 25,
   "metadata": {},
   "outputs": [
    {
     "name": "stdout",
     "output_type": "stream",
     "text": [
      "2 µs ± 17.5 ns per loop (mean ± std. dev. of 7 runs, 100000 loops each)\n"
     ]
    }
   ],
   "source": [
    "%timeit cart2polar(x, y)"
   ]
  },
  {
   "cell_type": "code",
   "execution_count": 5,
   "metadata": {},
   "outputs": [],
   "source": [
    "img = fits.open(\"/Users/song/Dropbox/work/project/huoguo/huoguo/data/M51.fits\")[0].data"
   ]
  },
  {
   "cell_type": "code",
   "execution_count": 6,
   "metadata": {},
   "outputs": [],
   "source": [
    "x, y = np.arange(100) * 1.0, np.arange(100) * 1.0"
   ]
  },
  {
   "cell_type": "code",
   "execution_count": 7,
   "metadata": {},
   "outputs": [],
   "source": [
    "import jax.numpy as jnp\n",
    "from jax import grad, jit, vmap\n",
    "from jax import random"
   ]
  },
  {
   "cell_type": "code",
   "execution_count": 28,
   "metadata": {},
   "outputs": [],
   "source": [
    "@jit\n",
    "def img_polar_coord(img):\n",
    "    ny, nx = img.shape\n",
    "    xid, yid = jnp.meshgrid(\n",
    "        jnp.arange(nx), jnp.arange(ny))\n",
    "    xid -= (nx / 2.)\n",
    "    yid -= (ny / 2.)\n",
    "    return jnp.hypot(xid, yid), jnp.arctan2(yid, xid)"
   ]
  },
  {
   "cell_type": "code",
   "execution_count": 30,
   "metadata": {},
   "outputs": [
    {
     "name": "stdout",
     "output_type": "stream",
     "text": [
      "2.03 ms ± 7.85 µs per loop (mean ± std. dev. of 7 runs, 100 loops each)\n"
     ]
    }
   ],
   "source": [
    "%timeit r, theta = img_polar_coord(img.astype(np.float32))"
   ]
  },
  {
   "cell_type": "code",
   "execution_count": 32,
   "metadata": {},
   "outputs": [],
   "source": [
    "r, theta = img_polar_coord(img.astype(np.float32))"
   ]
  },
  {
   "cell_type": "code",
   "execution_count": 33,
   "metadata": {},
   "outputs": [
    {
     "data": {
      "text/plain": [
       "DeviceArray([[362.03867, 361.33224, 360.62723, ..., 359.9236 , 360.62723,\n",
       "              361.33224],\n",
       "             [361.33224, 360.62445, 359.91806, ..., 359.213  , 359.91806,\n",
       "              360.62445],\n",
       "             [360.62723, 359.91806, 359.21024, ..., 358.5038 , 359.21024,\n",
       "              359.91806],\n",
       "             ...,\n",
       "             [359.9236 , 359.213  , 358.5038 , ..., 357.79602, 358.5038 ,\n",
       "              359.213  ],\n",
       "             [360.62723, 359.91806, 359.21024, ..., 358.5038 , 359.21024,\n",
       "              359.91806],\n",
       "             [361.33224, 360.62445, 359.91806, ..., 359.213  , 359.91806,\n",
       "              360.62445]], dtype=float32)"
      ]
     },
     "execution_count": 33,
     "metadata": {},
     "output_type": "execute_result"
    }
   ],
   "source": [
    "r"
   ]
  },
  {
   "cell_type": "code",
   "execution_count": 34,
   "metadata": {},
   "outputs": [
    {
     "data": {
      "text/plain": [
       "DeviceArray([[-2.3561945 , -2.3542376 , -2.352273  , ..., -0.791292  ,\n",
       "              -0.7893197 , -0.7873551 ],\n",
       "             [-2.3581514 , -2.3561945 , -2.35423   , ..., -0.78933513,\n",
       "              -0.7873628 , -0.7853982 ],\n",
       "             [-2.360116  , -2.358159  , -2.3561945 , ..., -0.78737056,\n",
       "              -0.7853982 , -0.78343356],\n",
       "             ...,\n",
       "             [ 2.3620884 ,  2.3601315 ,  2.358167  , ...,  0.7853982 ,\n",
       "               0.7834258 ,  0.7814612 ],\n",
       "             [ 2.360116  ,  2.358159  ,  2.3561945 , ...,  0.78737056,\n",
       "               0.7853982 ,  0.78343356],\n",
       "             [ 2.3581514 ,  2.3561945 ,  2.35423   , ...,  0.78933513,\n",
       "               0.7873628 ,  0.7853982 ]], dtype=float32)"
      ]
     },
     "execution_count": 34,
     "metadata": {},
     "output_type": "execute_result"
    }
   ],
   "source": [
    "theta"
   ]
  },
  {
   "cell_type": "code",
   "execution_count": 57,
   "metadata": {},
   "outputs": [
    {
     "name": "stdout",
     "output_type": "stream",
     "text": [
      "CPU times: user 7.92 ms, sys: 1.88 ms, total: 9.8 ms\n",
      "Wall time: 8.66 ms\n"
     ]
    }
   ],
   "source": [
    "%time r, theta = cart2polar(xid - 256., yid - 256.)"
   ]
  },
  {
   "cell_type": "code",
   "execution_count": null,
   "metadata": {},
   "outputs": [],
   "source": []
  }
 ],
 "metadata": {
  "kernelspec": {
   "display_name": "Python 3",
   "language": "python",
   "name": "python3"
  },
  "language_info": {
   "codemirror_mode": {
    "name": "ipython",
    "version": 3
   },
   "file_extension": ".py",
   "mimetype": "text/x-python",
   "name": "python",
   "nbconvert_exporter": "python",
   "pygments_lexer": "ipython3",
   "version": "3.9.6"
  }
 },
 "nbformat": 4,
 "nbformat_minor": 4
}
