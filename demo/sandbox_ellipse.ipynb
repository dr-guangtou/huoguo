{
 "cells": [
  {
   "cell_type": "code",
   "execution_count": 9,
   "metadata": {},
   "outputs": [
    {
     "name": "stdout",
     "output_type": "stream",
     "text": [
      "The autoreload extension is already loaded. To reload it, use:\n",
      "  %reload_ext autoreload\n",
      "1.16.4\n"
     ]
    }
   ],
   "source": [
    "%matplotlib inline\n",
    "%load_ext autoreload\n",
    "%autoreload 2\n",
    "\n",
    "import os\n",
    "import sys\n",
    "\n",
    "import numpy as np\n",
    "from numba import jit\n",
    "\n",
    "import astropy.units as u\n",
    "from astropy import wcs\n",
    "from astropy.io import fits\n",
    "from astropy.coordinates import SkyCoord\n",
    "from astropy.visualization import make_lupton_rgb\n",
    "from astropy.utils.data import download_file, clear_download_cache\n",
    "\n",
    "import matplotlib.pyplot as plt\n",
    "from matplotlib import rcParams\n",
    "\n",
    "print(np.__version__)\n",
    "\n",
    "rcParams.update({'axes.linewidth': 1.5})\n",
    "rcParams.update({'xtick.direction': 'in'})\n",
    "rcParams.update({'ytick.direction': 'in'})\n",
    "rcParams.update({'xtick.minor.visible': 'True'})\n",
    "rcParams.update({'ytick.minor.visible': 'True'})\n",
    "rcParams.update({'xtick.major.pad': '7.0'})\n",
    "rcParams.update({'xtick.major.size': '8.0'})\n",
    "rcParams.update({'xtick.major.width': '1.5'})\n",
    "rcParams.update({'xtick.minor.pad': '7.0'})\n",
    "rcParams.update({'xtick.minor.size': '4.0'})\n",
    "rcParams.update({'xtick.minor.width': '1.5'})\n",
    "rcParams.update({'ytick.major.pad': '7.0'})\n",
    "rcParams.update({'ytick.major.size': '8.0'})\n",
    "rcParams.update({'ytick.major.width': '1.5'})\n",
    "rcParams.update({'ytick.minor.pad': '7.0'})\n",
    "rcParams.update({'ytick.minor.size': '4.0'})\n",
    "rcParams.update({'ytick.minor.width': '1.5'})\n",
    "rcParams.update({'axes.titlepad': '10.0'})\n",
    "rcParams.update({'font.size': 25})"
   ]
  },
  {
   "cell_type": "code",
   "execution_count": 70,
   "metadata": {},
   "outputs": [],
   "source": [
    "@jit(nopython=True, nogil=True)\n",
    "def cart2polar(x, y):\n",
    "    \"\"\"\n",
    "    Transform Cartesian coordinates to polar\n",
    "    \n",
    "    Parameters\n",
    "    ----------\n",
    "    x, y : floats or arrays\n",
    "        Cartesian coordinates\n",
    "    \n",
    "    Returns\n",
    "    -------\n",
    "    r, theta : floats or arrays\n",
    "        Polar coordinates\n",
    "        \n",
    "    \"\"\"\n",
    "    r = np.sqrt(x**2 + y**2)\n",
    "    theta = np.arctan2(x, y)  # θ referenced to vertical\n",
    "    return r, theta\n",
    "\n",
    "@jit(nopython=True, nogil=True)\n",
    "def polar2cart(r, theta):\n",
    "    \"\"\"\n",
    "    Transform polar coordinates to Cartesian\n",
    "    \n",
    "    Parameters\n",
    "    -------\n",
    "    r, theta : floats or arrays\n",
    "        Polar coordinates\n",
    "        \n",
    "    Returns\n",
    "    ----------\n",
    "    x, y : floats or arrays\n",
    "        Cartesian coordinates\n",
    "    \"\"\"\n",
    "    y = r * np.cos(theta)   # θ referenced to vertical\n",
    "    x = r * np.sin(theta)\n",
    "    return x, y\n",
    "\n",
    "def index_coords(data):\n",
    "    \"\"\"\n",
    "    Creates x & y coords for the indicies in a numpy array\n",
    "    \n",
    "    Parameters\n",
    "    ----------\n",
    "    data : numpy array\n",
    "        2D data\n",
    "    origin : (x,y) tuple\n",
    "        defaults to the center of the image. Specify origin=(0,0)\n",
    "        to set the origin to the *bottom-left* corner of the image.\n",
    "    \n",
    "    Returns\n",
    "    -------\n",
    "        x, y : arrays\n",
    "    \"\"\"\n",
    "    ny, nx = data.shape[:2]\n",
    "    \n",
    "    x, y = np.meshgrid(\n",
    "        np.arange(float(nx)), np.arange(float(ny)))\n",
    "\n",
    "    return x, y\n",
    "\n",
    "@jit(nopython=True, nogil=True)\n",
    "def index_to_galcen(x_idx, y_idx, x_cen, y_cen):\n",
    "    return x_idx - x_cen, y_idx - y_cen"
   ]
  },
  {
   "cell_type": "code",
   "execution_count": 54,
   "metadata": {},
   "outputs": [],
   "source": [
    "x, y = np.arange(100) * 1.0, np.arange(100) * 1.0\n",
    "\n",
    "data = np.zeros([1000, 1000])\n",
    "\n",
    "r, theta = cart2polar(x, y)\n",
    "xx, yy = polar2cart(r, theta)\n",
    "\n",
    "xid, yid = index_coords(data)"
   ]
  },
  {
   "cell_type": "code",
   "execution_count": 13,
   "metadata": {},
   "outputs": [
    {
     "name": "stdout",
     "output_type": "stream",
     "text": [
      "2.05 µs ± 6.46 ns per loop (mean ± std. dev. of 7 runs, 100000 loops each)\n"
     ]
    }
   ],
   "source": [
    "%timeit r, thetha = cart2polar(x, y)"
   ]
  },
  {
   "cell_type": "code",
   "execution_count": 21,
   "metadata": {},
   "outputs": [
    {
     "name": "stdout",
     "output_type": "stream",
     "text": [
      "3.77 µs ± 33.8 ns per loop (mean ± std. dev. of 7 runs, 100000 loops each)\n"
     ]
    }
   ],
   "source": [
    "%timeit xx, yy = polar2cart(r, theta)"
   ]
  },
  {
   "cell_type": "code",
   "execution_count": 55,
   "metadata": {},
   "outputs": [
    {
     "name": "stdout",
     "output_type": "stream",
     "text": [
      "1.6 ms ± 38.8 µs per loop (mean ± std. dev. of 7 runs, 1000 loops each)\n"
     ]
    }
   ],
   "source": [
    "%timeit xid, yid = index_coords(data)"
   ]
  },
  {
   "cell_type": "code",
   "execution_count": 69,
   "metadata": {},
   "outputs": [
    {
     "name": "stdout",
     "output_type": "stream",
     "text": [
      "2.21 ms ± 26.3 µs per loop (mean ± std. dev. of 7 runs, 100 loops each)\n"
     ]
    }
   ],
   "source": [
    "%timeit x0, y0 = index_to_galcen(xid, yid, 500.0, 500.0)"
   ]
  },
  {
   "cell_type": "code",
   "execution_count": 52,
   "metadata": {},
   "outputs": [
    {
     "data": {
      "text/plain": [
       "range(0, 1000)"
      ]
     },
     "execution_count": 52,
     "metadata": {},
     "output_type": "execute_result"
    }
   ],
   "source": []
  },
  {
   "cell_type": "code",
   "execution_count": null,
   "metadata": {},
   "outputs": [],
   "source": []
  }
 ],
 "metadata": {
  "kernelspec": {
   "display_name": "Python 3",
   "language": "python",
   "name": "python3"
  },
  "language_info": {
   "codemirror_mode": {
    "name": "ipython",
    "version": 3
   },
   "file_extension": ".py",
   "mimetype": "text/x-python",
   "name": "python",
   "nbconvert_exporter": "python",
   "pygments_lexer": "ipython3",
   "version": "3.7.3"
  }
 },
 "nbformat": 4,
 "nbformat_minor": 2
}
